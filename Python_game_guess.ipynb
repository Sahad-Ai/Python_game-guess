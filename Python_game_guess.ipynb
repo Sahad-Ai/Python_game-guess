{
  "nbformat": 4,
  "nbformat_minor": 0,
  "metadata": {
    "colab": {
      "provenance": []
    },
    "kernelspec": {
      "name": "python3",
      "display_name": "Python 3"
    },
    "language_info": {
      "name": "python"
    }
  },
  "cells": [
    {
      "cell_type": "code",
      "execution_count": 1,
      "metadata": {
        "colab": {
          "base_uri": "https://localhost:8080/"
        },
        "id": "xm1NghUC_5R6",
        "outputId": "22782c1b-0a6c-4a30-c622-951ee940657a"
      },
      "outputs": [
        {
          "output_type": "stream",
          "name": "stdout",
          "text": [
            "enter a lower limit:1\n",
            "enter a upper limit4\n",
            "your get the number are: 1 and 4\n",
            "enter a number:4\n",
            "you gussed large number\n",
            "enter a number:1\n",
            "your guessed small number\n",
            "enter a number:1\n",
            "your guessed small number\n",
            "enter a number:5\n",
            "you gussed large number\n",
            "enter a number:8\n",
            "you gussed large number\n",
            "enter a number:2\n",
            "your guessed small number\n",
            "enter a number:5\n",
            "you gussed large number\n",
            "enter a number:1\n",
            "your guessed small number\n",
            "Sorry, you've run out of chances. The correct number was 3.\n"
          ]
        }
      ],
      "source": [
        "import random\n",
        "lower_limit=int(input(\"enter a lower limit:\"))\n",
        "upper_limit=int(input(\"enter a upper limit\"))\n",
        "random_number=random.randint(lower_limit,upper_limit)\n",
        "print(f'your get the number are: {lower_limit} and {upper_limit}')\n",
        "chance=0\n",
        "while chance<8:\n",
        "  chance+=1\n",
        "  guess=int(input(\"enter a number:\"))\n",
        "  if upper_limit==lower_limit:\n",
        "    print(\"congratulations your number are same\")\n",
        "    break\n",
        "  elif guess<random_number:\n",
        "    print(\"your guessed small number\")\n",
        "  else:\n",
        "    print(\"you gussed large number\")\n",
        "if random_number<chance:\n",
        "   print(f\"Sorry, you've run out of chances. The correct number was {random_number}.\")\n"
      ]
    }
  ]
}